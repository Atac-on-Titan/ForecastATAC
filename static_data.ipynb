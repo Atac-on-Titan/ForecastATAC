{
 "cells": [
  {
   "attachments": {},
   "cell_type": "markdown",
   "metadata": {},
   "source": [
    "# **Exploring Static Data**\n",
    "In this notebook, we will explore the static data provided by ATAC. Below is the entity relationship diagram for the static data. Here is the [link](https://drawsql.app/teams/atacontitan/diagrams/static-data) to the drawsql diagram.\n",
    "\n",
    "![Static Data ERD](figures/er_diagram.png)"
   ]
  },
  {
   "cell_type": "code",
   "execution_count": 7,
   "metadata": {},
   "outputs": [],
   "source": [
    "# Libraries\n",
    "import pandas as pd\n",
    "from google.transit import gtfs_realtime_pb2\n",
    "feed = gtfs_realtime_pb2.FeedMessage()\n",
    "\n",
    "# Static data source\n",
    "src = 'data/rome_static_gtfs_test'"
   ]
  },
  {
   "cell_type": "code",
   "execution_count": 15,
   "metadata": {},
   "outputs": [],
   "source": [
    "agency = pd.read_csv(f'{src}/agency.txt')\n",
    "calendar = pd.read_csv(f'{src}/calendar.txt')\n",
    "calendar_dates = pd.read_csv(f'{src}/calendar_dates.txt')\n",
    "routes = pd.read_csv(f'{src}/routes.txt')\n",
    "shapes = pd.read_csv(f'{src}/shapes.txt')\n",
    "stop_times = pd.read_csv(f'{src}/stop_times.txt', nrows=1000)\n",
    "stops = pd.read_csv(f'{src}/stops.txt')\n",
    "trips = pd.read_csv(f'{src}/trips.txt')"
   ]
  },
  {
   "cell_type": "code",
   "execution_count": 55,
   "metadata": {},
   "outputs": [
    {
     "name": "stdout",
     "output_type": "stream",
     "text": [
      "Unique ID for agency is \"agency_id\": 0\n",
      "Unique ID for calendar is \"service_id\": 0\n",
      "Unique ID for routes is \"route_id\": 0\n",
      "Unique ID for shapes is \"shape_id\" and \"shape_pt_sequence\": 0\n",
      "Unique ID for stops is \"stop_id\": 0\n",
      "Unique ID for trips is \"trip_id\": 0\n"
     ]
    }
   ],
   "source": [
    "print(f'Unique ID for agency is \"agency_id\": {agency[\"agency_id\"].duplicated().sum()}')\n",
    "print(f'Unique ID for calendar is \"service_id\": {calendar[\"service_id\"].duplicated().sum()}')\n",
    "print(f'Unique ID for routes is \"route_id\": {routes[\"route_id\"].duplicated().sum()}')\n",
    "print(f'Unique ID for shapes is \"shape_id\" and \"shape_pt_sequence\": {shapes[[\"shape_id\", \"shape_pt_sequence\"]].duplicated().sum()}')\n",
    "print(f'Unique ID for stops is \"stop_id\": {stops[\"stop_id\"].duplicated().sum()}')\n",
    "print(f'Unique ID for trips is \"trip_id\": {trips[\"trip_id\"].duplicated().sum()}')"
   ]
  }
 ],
 "metadata": {
  "kernelspec": {
   "display_name": "base",
   "language": "python",
   "name": "python3"
  },
  "language_info": {
   "codemirror_mode": {
    "name": "ipython",
    "version": 3
   },
   "file_extension": ".py",
   "mimetype": "text/x-python",
   "name": "python",
   "nbconvert_exporter": "python",
   "pygments_lexer": "ipython3",
   "version": "3.10.9"
  },
  "orig_nbformat": 4
 },
 "nbformat": 4,
 "nbformat_minor": 2
}
